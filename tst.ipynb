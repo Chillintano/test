{
 "cells": [
  {
   "cell_type": "code",
   "execution_count": 5,
   "id": "e23ed7ea",
   "metadata": {
    "cellId": "4im70x9xmm9m8ytj3ch1n"
   },
   "outputs": [],
   "source": [
    "#!c1.32\n",
    "a=5\n",
    "b=in1\n",
    "c=b\n",
    "d='help me pls'"
   ]
  }
 ],
 "metadata": {
  "language_info": {
   "codemirror_mode": {
    "name": "ipython",
    "version": 3
   },
   "file_extension": ".py",
   "mimetype": "text/x-python",
   "name": "python",
   "nbconvert_exporter": "python",
   "pygments_lexer": "ipython3",
   "version": "3.7.7"
  },
  "notebookId": "3710cbb8-cb59-4a27-9e13-f9508bb346d3",
  "notebookPath": "test/Untitled1.ipynb"
 },
 "nbformat": 4,
 "nbformat_minor": 5
}
