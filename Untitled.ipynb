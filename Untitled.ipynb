{
 "cells": [
  {
   "cell_type": "code",
   "execution_count": null,
   "id": "830ec073",
   "metadata": {
    "cellId": "r3iua12nwe8e41ncqnhqf7"
   },
   "outputs": [],
   "source": [
    "a=5"
   ]
  },
  {
   "cell_type": "code",
   "execution_count": null,
   "id": "5895283f",
   "metadata": {
    "cellId": "2ec7ia1kwqhqc52dx9t4f"
   },
   "outputs": [],
   "source": [
    "b=in1"
   ]
  },
  {
   "cell_type": "code",
   "execution_count": null,
   "id": "f81ff6dd",
   "metadata": {
    "cellId": "dokx2gos2jqfsb39wzzc7r",
    "execution_id": "b83968d2-6876-47f8-9875-ac56e9c3c86f"
   },
   "outputs": [],
   "source": [
    "c=b"
   ]
  },
  {
   "cell_type": "code",
   "execution_count": null,
   "id": "4a12cb93",
   "metadata": {
    "cellId": "kt6t3s3hkw45lal15qzxo"
   },
   "outputs": [],
   "source": [
    "d='help me pls'"
   ]
  },
  {
   "cell_type": "code",
   "execution_count": null,
   "id": "c162ae66",
   "metadata": {
    "cellId": "6fbofkt1ww7qxgjiqfc3f"
   },
   "outputs": [],
   "source": []
  },
  {
   "cell_type": "code",
   "execution_count": 8,
   "id": "17bf412b",
   "metadata": {
    "cellId": "xfspb644yji5v9eia216uy"
   },
   "outputs": [],
   "source": []
  },
  {
   "cell_type": "code",
   "execution_count": null,
   "id": "bbdaa2cc",
   "metadata": {
    "cellId": "igbdqmwob3kv97jjhbdym"
   },
   "outputs": [],
   "source": []
  }
 ],
 "metadata": {
  "language_info": {
   "codemirror_mode": {
    "name": "ipython",
    "version": 3
   },
   "file_extension": ".py",
   "mimetype": "text/x-python",
   "name": "python",
   "nbconvert_exporter": "python",
   "pygments_lexer": "ipython3",
   "version": "3.7.7"
  },
  "notebookId": "160cf5a9-2d72-4ac9-86d7-4d6853f2fe53",
  "notebookPath": "Untitled.ipynb"
 },
 "nbformat": 4,
 "nbformat_minor": 5
}
